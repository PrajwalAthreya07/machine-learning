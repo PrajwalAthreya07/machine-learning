{
  "nbformat": 4,
  "nbformat_minor": 0,
  "metadata": {
    "colab": {
      "name": "linear_regression.ipynb",
      "provenance": [],
      "collapsed_sections": []
    },
    "kernelspec": {
      "name": "python3",
      "display_name": "Python 3"
    }
  },
  "cells": [
    {
      "cell_type": "code",
      "metadata": {
        "id": "NFzqdJecTFQX",
        "colab_type": "code",
        "colab": {}
      },
      "source": [
        "import numpy as np\n",
        "import matplotlib.pyplot as plt\n",
        "import pandas as pd\n",
        "from sklearn.datasets import load_boston\n",
        "\n",
        "%matplotlib inline #INLINE is used to render the figure on the notebook screen."
      ],
      "execution_count": null,
      "outputs": []
    },
    {
      "cell_type": "code",
      "metadata": {
        "id": "lY5FzzaJUZLS",
        "colab_type": "code",
        "colab": {}
      },
      "source": [
        "boston = load_boston()"
      ],
      "execution_count": null,
      "outputs": []
    },
    {
      "cell_type": "code",
      "metadata": {
        "id": "acF5fdHHUcaP",
        "colab_type": "code",
        "colab": {
          "base_uri": "https://localhost:8080/",
          "height": 884
        },
        "outputId": "2af291a8-c762-49ca-bde3-2ff2d539da53"
      },
      "source": [
        "print(boston.DESCR)"
      ],
      "execution_count": null,
      "outputs": [
        {
          "output_type": "stream",
          "text": [
            ".. _boston_dataset:\n",
            "\n",
            "Boston house prices dataset\n",
            "---------------------------\n",
            "\n",
            "**Data Set Characteristics:**  \n",
            "\n",
            "    :Number of Instances: 506 \n",
            "\n",
            "    :Number of Attributes: 13 numeric/categorical predictive. Median Value (attribute 14) is usually the target.\n",
            "\n",
            "    :Attribute Information (in order):\n",
            "        - CRIM     per capita crime rate by town\n",
            "        - ZN       proportion of residential land zoned for lots over 25,000 sq.ft.\n",
            "        - INDUS    proportion of non-retail business acres per town\n",
            "        - CHAS     Charles River dummy variable (= 1 if tract bounds river; 0 otherwise)\n",
            "        - NOX      nitric oxides concentration (parts per 10 million)\n",
            "        - RM       average number of rooms per dwelling\n",
            "        - AGE      proportion of owner-occupied units built prior to 1940\n",
            "        - DIS      weighted distances to five Boston employment centres\n",
            "        - RAD      index of accessibility to radial highways\n",
            "        - TAX      full-value property-tax rate per $10,000\n",
            "        - PTRATIO  pupil-teacher ratio by town\n",
            "        - B        1000(Bk - 0.63)^2 where Bk is the proportion of blacks by town\n",
            "        - LSTAT    % lower status of the population\n",
            "        - MEDV     Median value of owner-occupied homes in $1000's\n",
            "\n",
            "    :Missing Attribute Values: None\n",
            "\n",
            "    :Creator: Harrison, D. and Rubinfeld, D.L.\n",
            "\n",
            "This is a copy of UCI ML housing dataset.\n",
            "https://archive.ics.uci.edu/ml/machine-learning-databases/housing/\n",
            "\n",
            "\n",
            "This dataset was taken from the StatLib library which is maintained at Carnegie Mellon University.\n",
            "\n",
            "The Boston house-price data of Harrison, D. and Rubinfeld, D.L. 'Hedonic\n",
            "prices and the demand for clean air', J. Environ. Economics & Management,\n",
            "vol.5, 81-102, 1978.   Used in Belsley, Kuh & Welsch, 'Regression diagnostics\n",
            "...', Wiley, 1980.   N.B. Various transformations are used in the table on\n",
            "pages 244-261 of the latter.\n",
            "\n",
            "The Boston house-price data has been used in many machine learning papers that address regression\n",
            "problems.   \n",
            "     \n",
            ".. topic:: References\n",
            "\n",
            "   - Belsley, Kuh & Welsch, 'Regression diagnostics: Identifying Influential Data and Sources of Collinearity', Wiley, 1980. 244-261.\n",
            "   - Quinlan,R. (1993). Combining Instance-Based and Model-Based Learning. In Proceedings on the Tenth International Conference of Machine Learning, 236-243, University of Massachusetts, Amherst. Morgan Kaufmann.\n",
            "\n"
          ],
          "name": "stdout"
        }
      ]
    },
    {
      "cell_type": "code",
      "metadata": {
        "id": "6QxxLFpKVmi7",
        "colab_type": "code",
        "colab": {}
      },
      "source": [
        "features = pd.DataFrame(boston.data,columns = boston.feature_names)\n",
        "target = pd.DataFrame(boston.target,columns = ['Target'])\n",
        "data = pd.concat([features , target],axis = 1)\n",
        "#features is for input in dataframe and target is for output"
      ],
      "execution_count": null,
      "outputs": []
    },
    {
      "cell_type": "code",
      "metadata": {
        "id": "MfjNcKu0XEMY",
        "colab_type": "code",
        "colab": {}
      },
      "source": [
        "data2 = data.corr('pearson')\n"
      ],
      "execution_count": null,
      "outputs": []
    },
    {
      "cell_type": "code",
      "metadata": {
        "id": "MPG04cI-XRe7",
        "colab_type": "code",
        "colab": {
          "base_uri": "https://localhost:8080/",
          "height": 272
        },
        "outputId": "5533583f-74b2-4d9c-f005-d2b3561a5461"
      },
      "source": [
        "abs(data2.loc['Target']).sort_values(ascending=False)"
      ],
      "execution_count": null,
      "outputs": [
        {
          "output_type": "execute_result",
          "data": {
            "text/plain": [
              "Target     1.000000\n",
              "LSTAT      0.737663\n",
              "RM         0.695360\n",
              "PTRATIO    0.507787\n",
              "INDUS      0.483725\n",
              "TAX        0.468536\n",
              "NOX        0.427321\n",
              "CRIM       0.388305\n",
              "RAD        0.381626\n",
              "AGE        0.376955\n",
              "ZN         0.360445\n",
              "B          0.333461\n",
              "DIS        0.249929\n",
              "CHAS       0.175260\n",
              "Name: Target, dtype: float64"
            ]
          },
          "metadata": {
            "tags": []
          },
          "execution_count": 17
        }
      ]
    },
    {
      "cell_type": "code",
      "metadata": {
        "id": "XV4IputNXoSX",
        "colab_type": "code",
        "colab": {}
      },
      "source": [
        "x=data['RM']\n",
        "y=data['Target']\n",
        "x=np.array(x/x.mean())\n",
        "y=np.array(y/y.mean())"
      ],
      "execution_count": null,
      "outputs": []
    },
    {
      "cell_type": "code",
      "metadata": {
        "id": "gjxu8HzPYmuW",
        "colab_type": "code",
        "colab": {}
      },
      "source": [
        "n=int(0.8*len(x))\n",
        "x_train = x[:n]\n",
        "y_train = y[:n]\n",
        "\n",
        "x_test = x[n:]\n",
        "y_test = y[n:]"
      ],
      "execution_count": null,
      "outputs": []
    },
    {
      "cell_type": "code",
      "metadata": {
        "id": "i4hg1-yiZNwP",
        "colab_type": "code",
        "colab": {
          "base_uri": "https://localhost:8080/",
          "height": 282
        },
        "outputId": "dbe3a8b2-bec3-4d6d-91f4-b1cd888b62fc"
      },
      "source": [
        "plt.plot(x_train,y_train,'b.')"
      ],
      "execution_count": null,
      "outputs": [
        {
          "output_type": "execute_result",
          "data": {
            "text/plain": [
              "[<matplotlib.lines.Line2D at 0x7fee0d82d710>]"
            ]
          },
          "metadata": {
            "tags": []
          },
          "execution_count": 26
        },
        {
          "output_type": "display_data",
          "data": {
            "image/png": "[encoded data removed]",
            "text/plain": [
              "<Figure size 432x288 with 1 Axes>"
            ]
          },
          "metadata": {
            "tags": [],
            "needs_background": "light"
          }
        }
      ]
    },
    {
      "cell_type": "code",
      "metadata": {
        "id": "cU1_tOHCZcQG",
        "colab_type": "code",
        "colab": {
          "base_uri": "https://localhost:8080/",
          "height": 282
        },
        "outputId": "47e033ac-a726-439d-af7b-d264f059aa55"
      },
      "source": [
        "plt.plot(x_test,y_test,'g.')"
      ],
      "execution_count": null,
      "outputs": [
        {
          "output_type": "execute_result",
          "data": {
            "text/plain": [
              "[<matplotlib.lines.Line2D at 0x7fee0d2490f0>]"
            ]
          },
          "metadata": {
            "tags": []
          },
          "execution_count": 31
        },
        {
          "output_type": "display_data",
          "data": {
            "image/png": "[encoded data removed]",
            "text/plain": [
              "<Figure size 432x288 with 1 Axes>"
            ]
          },
          "metadata": {
            "tags": [],
            "needs_background": "light"
          }
        }
      ]
    },
    {
      "cell_type": "code",
      "metadata": {
        "id": "AAPVjesvZvyr",
        "colab_type": "code",
        "colab": {}
      },
      "source": [
        "def hypothesis(a,b,x):\n",
        "  return a*x +b"
      ],
      "execution_count": null,
      "outputs": []
    },
    {
      "cell_type": "code",
      "metadata": {
        "id": "uYMcr3SUZ4XP",
        "colab_type": "code",
        "colab": {}
      },
      "source": [
        "def error(a,b,x,y):\n",
        "  e=0\n",
        "  m=len(y)\n",
        "  for i in range(m):\n",
        "    e+=np.power((hypothesis(a,b,x[i])-y[i]),2)\n",
        "  return (1/2*m)"
      ],
      "execution_count": null,
      "outputs": []
    },
    {
      "cell_type": "code",
      "metadata": {
        "id": "RxHgYMbyaXyL",
        "colab_type": "code",
        "colab": {}
      },
      "source": [
        "def step_gradient(a,b,x,y,learning_rate):\n",
        "  grad_a = 0\n",
        "  grad_b = 0\n",
        "  m = len(x)\n",
        "  for i in range(m):\n",
        "    grad_a += 1/m *(hypothesis(a,b,x[i])-y[i]) * x[i]\n",
        "    grad_b += 1/m *(hypothesis(a,b,x[i])-y[i]) \n",
        "  a = a-(grad_a * learning_rate)\n",
        "  b = b-(grad_b * learning_rate)\n",
        "  return a,b"
      ],
      "execution_count": null,
      "outputs": []
    },
    {
      "cell_type": "code",
      "metadata": {
        "id": "VMNKc7KOcj5p",
        "colab_type": "code",
        "colab": {}
      },
      "source": [
        "def descend(initial_a,initial_b,x,y,learning_rate,iterations):\n",
        "  a=initial_a\n",
        "  b=initial_b\n",
        "  for i in range(iterations):\n",
        "    e = error(a,b,x,y)\n",
        "    if i %1000 == 0 :\n",
        "      print(f\"Error:{e},a:{a},b:{b}\")\n",
        "    a,b = step_gradient(a,b,x,y,learning_rate)\n",
        "  return a,b"
      ],
      "execution_count": null,
      "outputs": []
    },
    {
      "cell_type": "code",
      "metadata": {
        "id": "4g5GWZRWdyX7",
        "colab_type": "code",
        "colab": {
          "base_uri": "https://localhost:8080/",
          "height": 527
        },
        "outputId": "e457d419-6e12-45c5-bb91-d25f4bcba2c4"
      },
      "source": [
        "a=0\n",
        "b=1\n",
        "learning_rate = 0.35\n",
        "iterations = 30000\n",
        "final_a,final_b = descend(a,b,x_train,y_train,learning_rate,iterations)\n"
      ],
      "execution_count": null,
      "outputs": [
        {
          "output_type": "stream",
          "text": [
            "Error:202.0,a:0,b:1\n",
            "Error:202.0,a:2.388785043663434,b:-1.3326097948970936\n",
            "Error:202.0,a:2.613539572187805,b:-1.5606233692939464\n",
            "Error:202.0,a:2.6350958439611167,b:-1.5824922170985847\n",
            "Error:202.0,a:2.637163312215552,b:-1.5845896646105029\n",
            "Error:202.0,a:2.6373616036932273,b:-1.5847908314074262\n",
            "Error:202.0,a:2.637380621886148,b:-1.584810125373047\n",
            "Error:202.0,a:2.6373824459265265,b:-1.5848119758628647\n",
            "Error:202.0,a:2.637382620870766,b:-1.5848121533438777\n",
            "Error:202.0,a:2.6373826376497167,b:-1.5848121703661309\n",
            "Error:202.0,a:2.6373826392589894,b:-1.584812171998739\n",
            "Error:202.0,a:2.637382639413336,b:-1.5848121721553234\n",
            "Error:202.0,a:2.6373826394281368,b:-1.5848121721703388\n",
            "Error:202.0,a:2.637382639429558,b:-1.5848121721717805\n",
            "Error:202.0,a:2.6373826394296414,b:-1.5848121721718653\n",
            "Error:202.0,a:2.6373826394296414,b:-1.5848121721718653\n",
            "Error:202.0,a:2.6373826394296414,b:-1.5848121721718653\n",
            "Error:202.0,a:2.6373826394296414,b:-1.5848121721718653\n",
            "Error:202.0,a:2.6373826394296414,b:-1.5848121721718653\n",
            "Error:202.0,a:2.6373826394296414,b:-1.5848121721718653\n",
            "Error:202.0,a:2.6373826394296414,b:-1.5848121721718653\n",
            "Error:202.0,a:2.6373826394296414,b:-1.5848121721718653\n",
            "Error:202.0,a:2.6373826394296414,b:-1.5848121721718653\n",
            "Error:202.0,a:2.6373826394296414,b:-1.5848121721718653\n",
            "Error:202.0,a:2.6373826394296414,b:-1.5848121721718653\n",
            "Error:202.0,a:2.6373826394296414,b:-1.5848121721718653\n",
            "Error:202.0,a:2.6373826394296414,b:-1.5848121721718653\n",
            "Error:202.0,a:2.6373826394296414,b:-1.5848121721718653\n",
            "Error:202.0,a:2.6373826394296414,b:-1.5848121721718653\n",
            "Error:202.0,a:2.6373826394296414,b:-1.5848121721718653\n"
          ],
          "name": "stdout"
        }
      ]
    },
    {
      "cell_type": "code",
      "metadata": {
        "id": "4sfJdDjnfvn2",
        "colab_type": "code",
        "colab": {
          "base_uri": "https://localhost:8080/",
          "height": 51
        },
        "outputId": "16368de4-85bf-4de5-d008-3df19e27cff6"
      },
      "source": [
        "print(error(a,b,x_train,y_train))\n",
        "print(error(final_a,final_b,x_train,y_train))"
      ],
      "execution_count": null,
      "outputs": [
        {
          "output_type": "stream",
          "text": [
            "202.0\n",
            "202.0\n"
          ],
          "name": "stdout"
        }
      ]
    },
    {
      "cell_type": "code",
      "metadata": {
        "id": "BSAlZawLgCg3",
        "colab_type": "code",
        "colab": {
          "base_uri": "https://localhost:8080/",
          "height": 34
        },
        "outputId": "9a56dbcb-deee-4e51-a0d1-87e59814a1b7"
      },
      "source": [
        "print(error(final_a,final_b,x_test,y_test))"
      ],
      "execution_count": null,
      "outputs": [
        {
          "output_type": "stream",
          "text": [
            "51.0\n"
          ],
          "name": "stdout"
        }
      ]
    },
    {
      "cell_type": "code",
      "metadata": {
        "id": "5DswPGazgNrz",
        "colab_type": "code",
        "colab": {
          "base_uri": "https://localhost:8080/",
          "height": 299
        },
        "outputId": "6451574d-13db-4de1-9c67-55b6e8e4cb92"
      },
      "source": [
        "plt.plot(x_test,y_test,'r.',x_test,hypothesis(final_a,final_b,x_test),'g.')"
      ],
      "execution_count": null,
      "outputs": [
        {
          "output_type": "execute_result",
          "data": {
            "text/plain": [
              "[<matplotlib.lines.Line2D at 0x7fee0d129748>,\n",
              " <matplotlib.lines.Line2D at 0x7fee0d129828>]"
            ]
          },
          "metadata": {
            "tags": []
          },
          "execution_count": 57
        },
        {
          "output_type": "display_data",
          "data": {
            "image/png": "[encoded data removed]",
            "text/plain": [
              "<Figure size 432x288 with 1 Axes>"
            ]
          },
          "metadata": {
            "tags": [],
            "needs_background": "light"
          }
        }
      ]
    }
  ]
}